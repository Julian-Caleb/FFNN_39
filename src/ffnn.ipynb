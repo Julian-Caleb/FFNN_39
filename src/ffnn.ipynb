{
 "cells": [
  {
   "cell_type": "markdown",
   "metadata": {},
   "source": [
    "# Tugas Besar 1 IF3270 Pembelajaran Mesin <br /> Feedforward Neural Network\n",
    "\n",
    "## Kelompok 39\n",
    "\n",
    "- Dzaky Satrio Nugroho - 13522059\n",
    "- Julian Caleb Simandjuntak - 13522099\n",
    "- Rafiki Prawhira Harianto - 13522065"
   ]
  },
  {
   "cell_type": "code",
   "execution_count": 1,
   "metadata": {},
   "outputs": [],
   "source": [
    "# Import dulu\n",
    "import numpy as np\n"
   ]
  },
  {
   "cell_type": "code",
   "execution_count": 7,
   "metadata": {},
   "outputs": [],
   "source": [
    "# Fungsi Aktivasi \n",
    "\n",
    "# Fungsi linear\n",
    "def linear(x: np.ndarray) -> np.ndarray:\n",
    "    return x\n",
    "\n",
    "# Fungsi ReLU\n",
    "def relu(x: np.ndarray) -> np.ndarray:\n",
    "    return np.maximum(0, x)\n",
    "\n",
    "# Fungsi Sigmoid\n",
    "def sigmoid(x: np.ndarray) -> np.ndarray:\n",
    "    return 1 / (1 + np.exp(-x))\n",
    "\n",
    "# Fungsi Hyperbolic Tangent\n",
    "def tanh(x: np.ndarray) -> np.ndarray:\n",
    "    return np.tanh(x)\n",
    "\n",
    "# Fungsi Softmax\n",
    "def softmax(x: np.ndarray) -> np.ndarray:\n",
    "    e_x = np.exp(x - np.max(x))\n",
    "    return e_x / e_x.sum(axis=0)\n"
   ]
  },
  {
   "cell_type": "code",
   "execution_count": 6,
   "metadata": {},
   "outputs": [],
   "source": [
    "# Fungsi Loss\n",
    "\n",
    "# Mean Squared Error\n",
    "def mse(y_pred: np.ndarray, y_true: np.ndarray) -> float:\n",
    "    mse = np.sum((y_pred - y_true) ** 2) / len(y_true)\n",
    "    return mse\n",
    "\n",
    "# Binary Cross-Entropy\n",
    "def bce(y_pred: np.ndarray, y_true: np.ndarray) -> float:\n",
    "    bce = -(y_true * np.log(y_pred) + (1 - y_true) * np.log(1 - y_pred)).mean()\n",
    "    return bce\n",
    "\n",
    "# Categorical Cross-Entropy\n",
    "def cce(y_pred: np.ndarray, y_true: np.ndarray) -> float:\n",
    "    cce = -1 / len(y_true) * np.sum(np.sum(y_true * np.log(y_pred)))\n",
    "    return cce"
   ]
  }
 ],
 "metadata": {
  "kernelspec": {
   "display_name": "Python 3",
   "language": "python",
   "name": "python3"
  },
  "language_info": {
   "codemirror_mode": {
    "name": "ipython",
    "version": 3
   },
   "file_extension": ".py",
   "mimetype": "text/x-python",
   "name": "python",
   "nbconvert_exporter": "python",
   "pygments_lexer": "ipython3",
   "version": "3.12.6"
  }
 },
 "nbformat": 4,
 "nbformat_minor": 2
}
