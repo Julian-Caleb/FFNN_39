{
 "cells": [
  {
   "cell_type": "markdown",
   "metadata": {},
   "source": [
    "# Tugas Besar 1 IF3270 Pembelajaran Mesin <br /> Feedforward Neural Network\n",
    "\n",
    "## Kelompok 39\n",
    "\n",
    "- Dzaky Satrio Nugroho - 13522059\n",
    "- Julian Caleb Simandjuntak - 13522099\n",
    "- Rafiki Prawhira Harianto - 13522065"
   ]
  },
  {
   "cell_type": "code",
   "execution_count": null,
   "metadata": {},
   "outputs": [],
   "source": [
    "# Import dulu\n",
    "import numpy as np\n",
    "import matplotlib.pyplot as plt\n",
    "import networkx as nx\n",
    "from sklearn.datasets import fetch_openml\n",
    "from sklearn.model_selection import train_test_split\n",
    "from sklearn.preprocessing import OneHotEncoder\n",
    "from sklearn.metrics import accuracy_score\n",
    "from sklearn.neural_network import MLPClassifier\n",
    "import ffnn\n",
    "import importlib\n",
    "import pickle"
   ]
  },
  {
   "cell_type": "markdown",
   "metadata": {},
   "source": [
    "## IMPORT DATASET"
   ]
  },
  {
   "cell_type": "code",
   "execution_count": null,
   "metadata": {},
   "outputs": [],
   "source": [
    "# Load datasetnya dulu min\n",
    "X, y = fetch_openml(\"mnist_784\", version=1, return_X_y=True, as_frame=False)\n",
    "\n",
    "# Split\n",
    "X_train, X_test, y_train, y_test = train_test_split(X, y, test_size=10000, random_state=42)"
   ]
  },
  {
   "cell_type": "markdown",
   "metadata": {},
   "source": [
    "## FFNN TUBES"
   ]
  },
  {
   "cell_type": "code",
   "execution_count": null,
   "metadata": {},
   "outputs": [],
   "source": [
    "# Konvert dulu karena aselinya string\n",
    "y_int = y.astype(int).reshape(-1, 1) \n",
    "\n",
    "# Kita one hot encoding sejenak\n",
    "encoder = OneHotEncoder(sparse_output=False) \n",
    "y_one_hot = encoder.fit_transform(y_int)\n",
    "\n",
    "# Split the dataset\n",
    "X_train_tubes, X_test_tubes, y_train_tubes, y_test_tubes = train_test_split(X, y_one_hot, test_size=10000, random_state=42)"
   ]
  },
  {
   "cell_type": "code",
   "execution_count": null,
   "metadata": {},
   "outputs": [],
   "source": [
    "# Bikin modelnya gan\n",
    "importlib.reload(ffnn)\n",
    "model = ffnn.FFNN(\n",
    "    layers = [784, 3, 3, 10], # Input harus 784, output harus 10\n",
    "    activations = [\"sigmoid\", \"sigmoid\", \"sigmoid\"],\n",
    "    loss = \"mse\",\n",
    "    initialization = \"uniform\",\n",
    "    seed=42,\n",
    "    learning_rate = 0.01,\n",
    "    epochs = 3,\n",
    "    regularization=None, \n",
    "    lambda_reg=0.1,\n",
    "    normalization=\"rmsnorm\",\n",
    "    verbose = 1\n",
    ")\n",
    "\n",
    "# Kita train sejenak\n",
    "model.train(X_train_tubes, y_train_tubes, val_split=0.2)\n",
    "model.plot_loss()\n",
    "model.visualize_weights(start=1, end=None, display_size=5)\n",
    "model.visualize_gradient_weights(start=1, end=None, display_size=5)"
   ]
  },
  {
   "cell_type": "code",
   "execution_count": null,
   "metadata": {},
   "outputs": [],
   "source": [
    "# Prediksi skor gan\n",
    "y_pred_tubes = model.predict(X_test_tubes)\n",
    "\n",
    "result = np.zeros_like(y_pred_tubes)\n",
    "for i, row in enumerate(y_pred_tubes):\n",
    "    max_index = np.argmax(row)\n",
    "    result[i, max_index] = 1\n",
    "y_pred_tubes = result\n",
    "\n",
    "y_pred_classes = np.argmax(y_pred_tubes, axis=1)\n",
    "y_test_classes = np.argmax(y_test_tubes, axis=1)\n",
    "    \n",
    "correct_predictions = np.sum(y_pred_classes == y_test_classes)\n",
    "total_samples = y_test_tubes.shape[0]\n",
    "    \n",
    "accuracy = correct_predictions / total_samples\n",
    "print(f\"Akurasi: {accuracy:.2f}\")"
   ]
  },
  {
   "cell_type": "markdown",
   "metadata": {},
   "source": [
    "## FFNN Sklearn"
   ]
  },
  {
   "cell_type": "code",
   "execution_count": null,
   "metadata": {},
   "outputs": [],
   "source": [
    "# Train test split dulu\n",
    "X_train_sklearn, X_test_sklearn, y_train_sklearn, y_test_sklearn = train_test_split(X, y_one_hot, test_size=10000, random_state=42)"
   ]
  },
  {
   "cell_type": "code",
   "execution_count": null,
   "metadata": {},
   "outputs": [],
   "source": [
    "# Pucuk ubi pucuk kangkung, bikin modelnya dulu bung\n",
    "model = MLPClassifier(\n",
    "    hidden_layer_sizes=(3, 3, 2),\n",
    "    activation='logistic',\n",
    "    solver='adam',\n",
    "    max_iter=500,\n",
    "    learning_rate='constant',\n",
    "    random_state=42\n",
    ")"
   ]
  },
  {
   "cell_type": "code",
   "execution_count": null,
   "metadata": {},
   "outputs": [],
   "source": [
    "# Train model\n",
    "model.fit(X_train_sklearn, y_train_sklearn)"
   ]
  },
  {
   "cell_type": "code",
   "execution_count": null,
   "metadata": {},
   "outputs": [],
   "source": [
    "# Jajal prediksi, cek akurasi\n",
    "y_pred = model.predict(X_test_sklearn)\n",
    "accuracy = accuracy_score(y_test_sklearn, y_pred)\n",
    "print(f\"Accuracy: {accuracy:.4f}\")"
   ]
  },
  {
   "cell_type": "code",
   "execution_count": null,
   "metadata": {},
   "outputs": [],
   "source": [
    "# Visualisasikan loss\n",
    "plt.plot(model.loss_curve_)\n",
    "plt.title(\"Loss Curve\")\n",
    "plt.xlabel(\"Iteration\")\n",
    "plt.ylabel(\"Loss\")\n",
    "plt.show()"
   ]
  }
 ],
 "metadata": {
  "kernelspec": {
   "display_name": "Python 3",
   "language": "python",
   "name": "python3"
  },
  "language_info": {
   "codemirror_mode": {
    "name": "ipython",
    "version": 3
   },
   "file_extension": ".py",
   "mimetype": "text/x-python",
   "name": "python",
   "nbconvert_exporter": "python",
   "pygments_lexer": "ipython3",
   "version": "3.11.9"
  }
 },
 "nbformat": 4,
 "nbformat_minor": 2
}
