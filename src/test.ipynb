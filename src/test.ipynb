{
 "cells": [
  {
   "cell_type": "markdown",
   "metadata": {},
   "source": [
    "Pengujian model FFNN"
   ]
  },
  {
   "cell_type": "code",
   "execution_count": 1,
   "metadata": {},
   "outputs": [],
   "source": [
    "import matplotlib.pyplot as plt\n",
    "import numpy as np\n",
    "\n",
    "from sklearn.datasets import fetch_openml\n",
    "from sklearn.model_selection import train_test_split\n",
    "\n",
    "# %run ffnn.ipynb"
   ]
  },
  {
   "cell_type": "code",
   "execution_count": 4,
   "metadata": {},
   "outputs": [
    {
     "name": "stdout",
     "output_type": "stream",
     "text": [
      "[  0   0   0   0   0   0   0   0   0   0   0   0   0   0   0   0   0   0\n",
      "   0   0   0   0   0   0   0   0   0   0   0   0   0   0   0   0   0   0\n",
      "   0   0   0   0   0   0   0   0   0   0   0   0   0   0   0   0   0   0\n",
      "   0   0   0   0   0   0   0   0   0   0   0   0   0   0   0   0   0   0\n",
      "   0   0   0   0   0   0   0   0   0   0   0   0   0   0   0   0   0   0\n",
      "   0   0   0   0   0   0   0   0   0   0   0   0   0   0   0   0   0   0\n",
      "   0   0   0   0   0   0   0   0   0   0   0   0   0   0   0   0   0   0\n",
      "   0   0   0   0   0   0   0   0   0   0   0   0   0   0   0   0   0   0\n",
      "   0   0   0   0   0   0  43  60   4  47  60  61  11   0   0   0   0   0\n",
      "   0   0   0   0   0   0   0   0   0   0   0   0   0   0   8  60 227 253\n",
      " 169 233 253 254 180  58   0   0   0   0   0   0   0   0   0   0   0   0\n",
      "   0   0   0   0   0   8 183 253 253 253 253 253 253 254 253  89   0   0\n",
      "   0   0   0   0   0   0   0   0   0   0   0   0   0   0  98 226 253 253\n",
      " 253 213 178  64  29  91 178 195   0   0   0   0   0   0   0   0   0   0\n",
      "   0   0   0   0   0  93 240 253 253 253 126  35   0   0   0   0   0  44\n",
      "   0   0   0   0   0   0   0   0   0   0   0   0   0   0   0 254 253 253\n",
      " 253 213  35   0   0   0   0  56 134 134 134 134 120   0   0   0   0   0\n",
      "   0   0   0   0   0   0   0 254 253 253 210  27   0   0   0  16 178 247\n",
      " 253 253 253 253 251 239 154  54   0   0   0   0   0   0   0   0   0 254\n",
      " 253 241  31   0   0   0  96 205 253 254 253 253 253 253 253 253 232 229\n",
      "  80   0   0   0   0   0   0   0   0 166 253 247  79   0   0   0 239 253\n",
      " 253 192 104 104 104 104 122 253 253 253 104   0   0   0   0   0   0   0\n",
      "   0 106 254 254 134   0   0   0 204 185   0   0   0   0   0   0  18 149\n",
      " 249 254 255   0   0   0   0   0   0   0   0  19 217 253 232  77  18   0\n",
      "  26 115   0   0   0   0   0   0   0   0 239 253 217   0   0   0   0   0\n",
      "   0   0   0   0 113 253 253 253  85   8   0   0   0   0   0   0   0   0\n",
      "   0   8 240 253 104   0   0   0   0   0   0   0   0   0  32 211 253 253\n",
      " 253 182  78   0   0   0   0   0   0   0  15 191 253 253 104   0   0   0\n",
      "   0   0   0   0   0   0   0  28 214 253 253 253 243 224 224 226 189  75\n",
      "  75 120 228 253 253 169  12   0   0   0   0   0   0   0   0   0   0   0\n",
      "  35 118 244 253 253 253 253 254 253 253 253 253 253 253 242  52   0   0\n",
      "   0   0   0   0   0   0   0   0   0   0   0   0  85 119 166 253 253 254\n",
      " 253 253 253 253 253 253  84   0   0   0   0   0   0   0   0   0   0   0\n",
      "   0   0   0   0   0   0   5  14  14  14 137 163 163  31  14  14   1   0\n",
      "   0   0   0   0   0   0   0   0   0   0   0   0   0   0   0   0   0   0\n",
      "   0   0   0   0   0   0   0   0   0   0   0   0   0   0   0   0   0   0\n",
      "   0   0   0   0   0   0   0   0   0   0   0   0   0   0   0   0   0   0\n",
      "   0   0   0   0   0   0   0   0   0   0   0   0   0   0   0   0   0   0\n",
      "   0   0   0   0   0   0   0   0   0   0   0   0   0   0   0   0   0   0\n",
      "   0   0   0   0   0   0   0   0   0   0   0   0   0   0   0   0   0   0\n",
      "   0   0   0   0   0   0   0   0   0   0   0   0   0   0   0   0   0   0\n",
      "   0   0   0   0   0   0   0   0   0   0   0   0   0   0   0   0   0   0\n",
      "   0   0   0   0   0   0   0   0   0   0   0   0   0   0   0   0   0   0\n",
      "   0   0   0   0   0   0   0   0   0   0]\n"
     ]
    }
   ],
   "source": [
    "# Load data from https://www.openml.org/d/554\n",
    "# as_frame=False membuat X dan y menjadi numpy array untuk mempercepat proses model \n",
    "# Jika mau melakukan EDA dahulu, set as_frame=True untuk membuat dataframe\n",
    "X, y = fetch_openml(\"mnist_784\", version=1, return_X_y=True, as_frame=False)\n",
    "\n",
    "X_train, X_test, y_train, y_test = train_test_split(\n",
    "\tX, y, test_size=10000\n",
    ")\n",
    "\n",
    "print(X_train[0])"
   ]
  }
 ],
 "metadata": {
  "kernelspec": {
   "display_name": "Python 3",
   "language": "python",
   "name": "python3"
  },
  "language_info": {
   "codemirror_mode": {
    "name": "ipython",
    "version": 3
   },
   "file_extension": ".py",
   "mimetype": "text/x-python",
   "name": "python",
   "nbconvert_exporter": "python",
   "pygments_lexer": "ipython3",
   "version": "3.12.6"
  }
 },
 "nbformat": 4,
 "nbformat_minor": 2
}
